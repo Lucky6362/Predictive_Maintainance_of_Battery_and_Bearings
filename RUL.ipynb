{
 "cells": [
  {
   "cell_type": "code",
   "execution_count": 1,
   "metadata": {},
   "outputs": [],
   "source": [
    "# import libraries\n",
    "import datetime\n",
    "import numpy as np\n",
    "import pandas as pd\n",
    "from scipy.io import loadmat\n",
    "from sklearn.preprocessing import MinMaxScaler\n",
    "from sklearn.metrics import mean_squared_error\n",
    "from sklearn import metrics\n",
    "import matplotlib.pyplot as plt\n",
    "import seaborn as sns\n",
    "from pickle import load\n",
    "from pickle import dump\n",
    "from sklearn.tree import export_text\n",
    "from sklearn.tree import DecisionTreeRegressor\n",
    "from sklearn.svm import SVR\n",
    "from sklearn.model_selection import train_test_split\n",
    "from sklearn.metrics import mean_squared_error, mean_absolute_error\n",
    "from sklearn import ensemble\n",
    "from sklearn.tree import export_text\n",
    "from sklearn.tree import DecisionTreeRegressor\n",
    "import sklearn.metrics"
   ]
  },
  {
   "cell_type": "code",
   "execution_count": 2,
   "metadata": {},
   "outputs": [],
   "source": [
    "# convert mat data to panda\n",
    "def load_data(battery):\n",
    "  mat = loadmat('/Users/yi-chenlin/Desktop/Final project/battery_data/' + battery + '.mat')\n",
    "  print('Total data in dataset: ', len(mat[battery][0, 0]['cycle'][0]))\n",
    "  counter = 0\n",
    "  dataset = []\n",
    "  capacity_data = []\n",
    "  \n",
    "  for i in range(len(mat[battery][0, 0]['cycle'][0])):\n",
    "    row = mat[battery][0, 0]['cycle'][0, i]\n",
    "    if row['type'][0] == 'discharge':\n",
    "      ambient_temperature = row['ambient_temperature'][0][0]\n",
    "      date_time = datetime.datetime(int(row['time'][0][0]),\n",
    "                               int(row['time'][0][1]),\n",
    "                               int(row['time'][0][2]),\n",
    "                               int(row['time'][0][3]),\n",
    "                               int(row['time'][0][4])) + datetime.timedelta(seconds=int(row['time'][0][5]))\n",
    "      data = row['data']\n",
    "      capacity = data[0][0]['Capacity'][0][0]\n",
    "      for j in range(len(data[0][0]['Voltage_measured'][0])):\n",
    "        voltage_measured = data[0][0]['Voltage_measured'][0][j]\n",
    "        current_measured = data[0][0]['Current_measured'][0][j]\n",
    "        temperature_measured = data[0][0]['Temperature_measured'][0][j]\n",
    "        current_load = data[0][0]['Current_load'][0][j]\n",
    "        voltage_load = data[0][0]['Voltage_load'][0][j]\n",
    "        time = data[0][0]['Time'][0][j]\n",
    "        dataset.append([counter + 1, ambient_temperature, date_time, capacity,\n",
    "                        voltage_measured, current_measured,\n",
    "                        temperature_measured, current_load,\n",
    "                        voltage_load, time])\n",
    "      capacity_data.append([counter + 1, ambient_temperature, date_time, capacity])\n",
    "      counter = counter + 1\n",
    "  print(dataset[0])\n",
    "  return [pd.DataFrame(data=dataset,\n",
    "                       columns=['cycle', 'ambient_temperature', 'datetime',\n",
    "                                'capacity', 'voltage_measured',\n",
    "                                'current_measured', 'temperature_measured',\n",
    "                                'current_load', 'voltage_load', 'time']),\n",
    "          pd.DataFrame(data=capacity_data,\n",
    "                       columns=['cycle', 'ambient_temperature', 'datetime',\n",
    "                                'capacity'])]"
   ]
  },
  {
   "cell_type": "code",
   "execution_count": 3,
   "metadata": {},
   "outputs": [
    {
     "name": "stdout",
     "output_type": "stream",
     "text": [
      "Total data in dataset:  616\n",
      "[1, 24, datetime.datetime(2008, 4, 2, 15, 25, 41), 1.8564874208181574, 4.191491807505295, -0.004901589207462691, 24.330033885570543, -0.0006, 0.0, 0.0]\n"
     ]
    }
   ],
   "source": [
    "dataset, capacity = load_data('B0005')"
   ]
  },
  {
   "cell_type": "markdown",
   "metadata": {},
   "source": [
    "# Data understanding"
   ]
  },
  {
   "cell_type": "code",
   "execution_count": 4,
   "metadata": {},
   "outputs": [
    {
     "data": {
      "text/html": [
       "<div>\n",
       "<style scoped>\n",
       "    .dataframe tbody tr th:only-of-type {\n",
       "        vertical-align: middle;\n",
       "    }\n",
       "\n",
       "    .dataframe tbody tr th {\n",
       "        vertical-align: top;\n",
       "    }\n",
       "\n",
       "    .dataframe thead th {\n",
       "        text-align: right;\n",
       "    }\n",
       "</style>\n",
       "<table border=\"1\" class=\"dataframe\">\n",
       "  <thead>\n",
       "    <tr style=\"text-align: right;\">\n",
       "      <th></th>\n",
       "      <th>cycle</th>\n",
       "      <th>ambient_temperature</th>\n",
       "      <th>datetime</th>\n",
       "      <th>capacity</th>\n",
       "      <th>voltage_measured</th>\n",
       "      <th>current_measured</th>\n",
       "      <th>temperature_measured</th>\n",
       "      <th>current_load</th>\n",
       "      <th>voltage_load</th>\n",
       "      <th>time</th>\n",
       "    </tr>\n",
       "  </thead>\n",
       "  <tbody>\n",
       "    <tr>\n",
       "      <th>0</th>\n",
       "      <td>1</td>\n",
       "      <td>24</td>\n",
       "      <td>2008-04-02 15:25:41</td>\n",
       "      <td>1.856487</td>\n",
       "      <td>4.191492</td>\n",
       "      <td>-0.004902</td>\n",
       "      <td>24.330034</td>\n",
       "      <td>-0.0006</td>\n",
       "      <td>0.000</td>\n",
       "      <td>0.000</td>\n",
       "    </tr>\n",
       "    <tr>\n",
       "      <th>1</th>\n",
       "      <td>1</td>\n",
       "      <td>24</td>\n",
       "      <td>2008-04-02 15:25:41</td>\n",
       "      <td>1.856487</td>\n",
       "      <td>4.190749</td>\n",
       "      <td>-0.001478</td>\n",
       "      <td>24.325993</td>\n",
       "      <td>-0.0006</td>\n",
       "      <td>4.206</td>\n",
       "      <td>16.781</td>\n",
       "    </tr>\n",
       "    <tr>\n",
       "      <th>2</th>\n",
       "      <td>1</td>\n",
       "      <td>24</td>\n",
       "      <td>2008-04-02 15:25:41</td>\n",
       "      <td>1.856487</td>\n",
       "      <td>3.974871</td>\n",
       "      <td>-2.012528</td>\n",
       "      <td>24.389085</td>\n",
       "      <td>-1.9982</td>\n",
       "      <td>3.062</td>\n",
       "      <td>35.703</td>\n",
       "    </tr>\n",
       "    <tr>\n",
       "      <th>3</th>\n",
       "      <td>1</td>\n",
       "      <td>24</td>\n",
       "      <td>2008-04-02 15:25:41</td>\n",
       "      <td>1.856487</td>\n",
       "      <td>3.951717</td>\n",
       "      <td>-2.013979</td>\n",
       "      <td>24.544752</td>\n",
       "      <td>-1.9982</td>\n",
       "      <td>3.030</td>\n",
       "      <td>53.781</td>\n",
       "    </tr>\n",
       "    <tr>\n",
       "      <th>4</th>\n",
       "      <td>1</td>\n",
       "      <td>24</td>\n",
       "      <td>2008-04-02 15:25:41</td>\n",
       "      <td>1.856487</td>\n",
       "      <td>3.934352</td>\n",
       "      <td>-2.011144</td>\n",
       "      <td>24.731385</td>\n",
       "      <td>-1.9982</td>\n",
       "      <td>3.011</td>\n",
       "      <td>71.922</td>\n",
       "    </tr>\n",
       "  </tbody>\n",
       "</table>\n",
       "</div>"
      ],
      "text/plain": [
       "   cycle  ambient_temperature            datetime  capacity  voltage_measured  \\\n",
       "0      1                   24 2008-04-02 15:25:41  1.856487          4.191492   \n",
       "1      1                   24 2008-04-02 15:25:41  1.856487          4.190749   \n",
       "2      1                   24 2008-04-02 15:25:41  1.856487          3.974871   \n",
       "3      1                   24 2008-04-02 15:25:41  1.856487          3.951717   \n",
       "4      1                   24 2008-04-02 15:25:41  1.856487          3.934352   \n",
       "\n",
       "   current_measured  temperature_measured  current_load  voltage_load    time  \n",
       "0         -0.004902             24.330034       -0.0006         0.000   0.000  \n",
       "1         -0.001478             24.325993       -0.0006         4.206  16.781  \n",
       "2         -2.012528             24.389085       -1.9982         3.062  35.703  \n",
       "3         -2.013979             24.544752       -1.9982         3.030  53.781  \n",
       "4         -2.011144             24.731385       -1.9982         3.011  71.922  "
      ]
     },
     "execution_count": 4,
     "metadata": {},
     "output_type": "execute_result"
    }
   ],
   "source": [
    "dataset.head()"
   ]
  },
  {
   "cell_type": "code",
   "execution_count": 5,
   "metadata": {},
   "outputs": [
    {
     "name": "stdout",
     "output_type": "stream",
     "text": [
      "<class 'pandas.core.frame.DataFrame'>\n",
      "RangeIndex: 50285 entries, 0 to 50284\n",
      "Data columns (total 10 columns):\n",
      " #   Column                Non-Null Count  Dtype         \n",
      "---  ------                --------------  -----         \n",
      " 0   cycle                 50285 non-null  int64         \n",
      " 1   ambient_temperature   50285 non-null  int8          \n",
      " 2   datetime              50285 non-null  datetime64[ns]\n",
      " 3   capacity              50285 non-null  float64       \n",
      " 4   voltage_measured      50285 non-null  float64       \n",
      " 5   current_measured      50285 non-null  float64       \n",
      " 6   temperature_measured  50285 non-null  float64       \n",
      " 7   current_load          50285 non-null  float64       \n",
      " 8   voltage_load          50285 non-null  float64       \n",
      " 9   time                  50285 non-null  float64       \n",
      "dtypes: datetime64[ns](1), float64(7), int64(1), int8(1)\n",
      "memory usage: 3.5 MB\n"
     ]
    }
   ],
   "source": [
    "dataset.info()"
   ]
  },
  {
   "cell_type": "markdown",
   "metadata": {},
   "source": [
    "## Basic statistics"
   ]
  },
  {
   "cell_type": "code",
   "execution_count": 6,
   "metadata": {},
   "outputs": [
    {
     "data": {
      "text/html": [
       "<div>\n",
       "<style scoped>\n",
       "    .dataframe tbody tr th:only-of-type {\n",
       "        vertical-align: middle;\n",
       "    }\n",
       "\n",
       "    .dataframe tbody tr th {\n",
       "        vertical-align: top;\n",
       "    }\n",
       "\n",
       "    .dataframe thead th {\n",
       "        text-align: right;\n",
       "    }\n",
       "</style>\n",
       "<table border=\"1\" class=\"dataframe\">\n",
       "  <thead>\n",
       "    <tr style=\"text-align: right;\">\n",
       "      <th></th>\n",
       "      <th>cycle</th>\n",
       "      <th>ambient_temperature</th>\n",
       "      <th>capacity</th>\n",
       "      <th>voltage_measured</th>\n",
       "      <th>current_measured</th>\n",
       "      <th>temperature_measured</th>\n",
       "      <th>current_load</th>\n",
       "      <th>voltage_load</th>\n",
       "      <th>time</th>\n",
       "    </tr>\n",
       "  </thead>\n",
       "  <tbody>\n",
       "    <tr>\n",
       "      <th>count</th>\n",
       "      <td>50285.000000</td>\n",
       "      <td>50285.0</td>\n",
       "      <td>50285.000000</td>\n",
       "      <td>50285.000000</td>\n",
       "      <td>50285.000000</td>\n",
       "      <td>50285.000000</td>\n",
       "      <td>50285.000000</td>\n",
       "      <td>50285.000000</td>\n",
       "      <td>50285.000000</td>\n",
       "    </tr>\n",
       "    <tr>\n",
       "      <th>mean</th>\n",
       "      <td>88.125942</td>\n",
       "      <td>24.0</td>\n",
       "      <td>1.560345</td>\n",
       "      <td>3.515268</td>\n",
       "      <td>-1.806032</td>\n",
       "      <td>32.816991</td>\n",
       "      <td>1.362700</td>\n",
       "      <td>2.308406</td>\n",
       "      <td>1546.208924</td>\n",
       "    </tr>\n",
       "    <tr>\n",
       "      <th>std</th>\n",
       "      <td>45.699687</td>\n",
       "      <td>0.0</td>\n",
       "      <td>0.182380</td>\n",
       "      <td>0.231778</td>\n",
       "      <td>0.610502</td>\n",
       "      <td>3.987515</td>\n",
       "      <td>1.313698</td>\n",
       "      <td>0.800300</td>\n",
       "      <td>906.640295</td>\n",
       "    </tr>\n",
       "    <tr>\n",
       "      <th>min</th>\n",
       "      <td>1.000000</td>\n",
       "      <td>24.0</td>\n",
       "      <td>1.287453</td>\n",
       "      <td>2.455679</td>\n",
       "      <td>-2.029098</td>\n",
       "      <td>23.214802</td>\n",
       "      <td>-1.998400</td>\n",
       "      <td>0.000000</td>\n",
       "      <td>0.000000</td>\n",
       "    </tr>\n",
       "    <tr>\n",
       "      <th>25%</th>\n",
       "      <td>50.000000</td>\n",
       "      <td>24.0</td>\n",
       "      <td>1.386229</td>\n",
       "      <td>3.399384</td>\n",
       "      <td>-2.013415</td>\n",
       "      <td>30.019392</td>\n",
       "      <td>1.998000</td>\n",
       "      <td>2.388000</td>\n",
       "      <td>768.563000</td>\n",
       "    </tr>\n",
       "    <tr>\n",
       "      <th>50%</th>\n",
       "      <td>88.000000</td>\n",
       "      <td>24.0</td>\n",
       "      <td>1.538237</td>\n",
       "      <td>3.511664</td>\n",
       "      <td>-2.012312</td>\n",
       "      <td>32.828944</td>\n",
       "      <td>1.998200</td>\n",
       "      <td>2.533000</td>\n",
       "      <td>1537.031000</td>\n",
       "    </tr>\n",
       "    <tr>\n",
       "      <th>75%</th>\n",
       "      <td>127.000000</td>\n",
       "      <td>24.0</td>\n",
       "      <td>1.746871</td>\n",
       "      <td>3.660903</td>\n",
       "      <td>-2.011052</td>\n",
       "      <td>35.920887</td>\n",
       "      <td>1.998200</td>\n",
       "      <td>2.690000</td>\n",
       "      <td>2305.984000</td>\n",
       "    </tr>\n",
       "    <tr>\n",
       "      <th>max</th>\n",
       "      <td>168.000000</td>\n",
       "      <td>24.0</td>\n",
       "      <td>1.856487</td>\n",
       "      <td>4.222920</td>\n",
       "      <td>0.007496</td>\n",
       "      <td>41.450232</td>\n",
       "      <td>1.998400</td>\n",
       "      <td>4.238000</td>\n",
       "      <td>3690.234000</td>\n",
       "    </tr>\n",
       "  </tbody>\n",
       "</table>\n",
       "</div>"
      ],
      "text/plain": [
       "              cycle  ambient_temperature      capacity  voltage_measured  \\\n",
       "count  50285.000000              50285.0  50285.000000      50285.000000   \n",
       "mean      88.125942                 24.0      1.560345          3.515268   \n",
       "std       45.699687                  0.0      0.182380          0.231778   \n",
       "min        1.000000                 24.0      1.287453          2.455679   \n",
       "25%       50.000000                 24.0      1.386229          3.399384   \n",
       "50%       88.000000                 24.0      1.538237          3.511664   \n",
       "75%      127.000000                 24.0      1.746871          3.660903   \n",
       "max      168.000000                 24.0      1.856487          4.222920   \n",
       "\n",
       "       current_measured  temperature_measured  current_load  voltage_load  \\\n",
       "count      50285.000000          50285.000000  50285.000000  50285.000000   \n",
       "mean          -1.806032             32.816991      1.362700      2.308406   \n",
       "std            0.610502              3.987515      1.313698      0.800300   \n",
       "min           -2.029098             23.214802     -1.998400      0.000000   \n",
       "25%           -2.013415             30.019392      1.998000      2.388000   \n",
       "50%           -2.012312             32.828944      1.998200      2.533000   \n",
       "75%           -2.011052             35.920887      1.998200      2.690000   \n",
       "max            0.007496             41.450232      1.998400      4.238000   \n",
       "\n",
       "               time  \n",
       "count  50285.000000  \n",
       "mean    1546.208924  \n",
       "std      906.640295  \n",
       "min        0.000000  \n",
       "25%      768.563000  \n",
       "50%     1537.031000  \n",
       "75%     2305.984000  \n",
       "max     3690.234000  "
      ]
     },
     "execution_count": 6,
     "metadata": {},
     "output_type": "execute_result"
    }
   ],
   "source": [
    "dataset.describe()"
   ]
  },
  {
   "cell_type": "code",
   "execution_count": 7,
   "metadata": {},
   "outputs": [],
   "source": [
    "dataset.describe().to_csv(r'Statistics/rul-statistics.csv', index = True)"
   ]
  },
  {
   "cell_type": "markdown",
   "metadata": {},
   "source": [
    "## EDA"
   ]
  },
  {
   "cell_type": "code",
   "execution_count": 8,
   "metadata": {},
   "outputs": [
    {
     "data": {
      "text/plain": [
       "<matplotlib.legend.Legend at 0x14b97a3d0>"
      ]
     },
     "execution_count": 8,
     "metadata": {},
     "output_type": "execute_result"
    },
    {
     "data": {
      "image/png": "[encoded data removed]",
      "text/plain": [
       "<Figure size 864x576 with 1 Axes>"
      ]
     },
     "metadata": {
      "needs_background": "light"
     },
     "output_type": "display_data"
    }
   ],
   "source": [
    "fig, ax = plt.subplots(1, figsize=(12, 8))\n",
    "ax.plot(dataset[['cycle']], dataset[['capacity']] , color='green', label='Battery capacity data')\n",
    "ax.plot([0.,168], [1.38, 1.38],dashes=[6, 2], label=\"EoL Threshold\")\n",
    "ax.set(xlabel='Cycle numbers', ylabel='Capacity')\n",
    "ax.legend()"
   ]
  },
  {
   "cell_type": "code",
   "execution_count": 9,
   "metadata": {},
   "outputs": [
    {
     "data": {
      "image/png": "[encoded data removed]",
      "text/plain": [
       "<Figure size 1080x288 with 2 Axes>"
      ]
     },
     "metadata": {
      "needs_background": "light"
     },
     "output_type": "display_data"
    },
    {
     "data": {
      "image/png": "[encoded data removed]",
      "text/plain": [
       "<Figure size 1080x288 with 2 Axes>"
      ]
     },
     "metadata": {
      "needs_background": "light"
     },
     "output_type": "display_data"
    },
    {
     "data": {
      "image/png": "[encoded data removed]",
      "text/plain": [
       "<Figure size 1080x288 with 2 Axes>"
      ]
     },
     "metadata": {
      "needs_background": "light"
     },
     "output_type": "display_data"
    },
    {
     "data": {
      "image/png": "[encoded data removed]",
      "text/plain": [
       "<Figure size 1080x288 with 2 Axes>"
      ]
     },
     "metadata": {
      "needs_background": "light"
     },
     "output_type": "display_data"
    },
    {
     "data": {
      "image/png": "[encoded data removed]",
      "text/plain": [
       "<Figure size 1080x288 with 2 Axes>"
      ]
     },
     "metadata": {
      "needs_background": "light"
     },
     "output_type": "display_data"
    },
    {
     "data": {
      "image/png": "[encoded data removed]",
      "text/plain": [
       "<Figure size 1080x288 with 2 Axes>"
      ]
     },
     "metadata": {
      "needs_background": "light"
     },
     "output_type": "display_data"
    },
    {
     "data": {
      "image/png": "[encoded data removed]",
      "text/plain": [
       "<Figure size 1080x288 with 2 Axes>"
      ]
     },
     "metadata": {
      "needs_background": "light"
     },
     "output_type": "display_data"
    },
    {
     "data": {
      "image/png": "[encoded data removed]",
      "text/plain": [
       "<Figure size 1080x288 with 2 Axes>"
      ]
     },
     "metadata": {
      "needs_background": "light"
     },
     "output_type": "display_data"
    }
   ],
   "source": [
    "# Boxpot and histogram of each feature\n",
    "for feature in ['cycle', 'ambient_temperature', 'capacity', 'voltage_measured', 'current_measured', \n",
    "                    'temperature_measured', 'current_load', 'voltage_load']:\n",
    "    # Creating an empty chart\n",
    "    fig, ((ax1, ax2)) = plt.subplots(1, 2,  figsize=(15, 4))\n",
    "\n",
    "    # Extracting the feature values\n",
    "    x = dataset[feature].values\n",
    "\n",
    "    # Boxplot\n",
    "    ax1.boxplot(x)\n",
    "    ax1.set_title( 'Boxplot for {}'.format(feature) )\n",
    "\n",
    "    # Histogram\n",
    "    ax2.hist(x, bins=20)\n",
    "    ax2.set_title( 'Histogram for {}'.format(feature) )\n",
    "\n",
    "    # Display\n",
    "    plt.show()"
   ]
  },
  {
   "cell_type": "code",
   "execution_count": 10,
   "metadata": {},
   "outputs": [
    {
     "name": "stdout",
     "output_type": "stream",
     "text": [
      "The dataset contains 0 null values\n",
      "The dataset contains 0 duplicates\n",
      "Size of cleaned dataset:  50285\n"
     ]
    }
   ],
   "source": [
    "# Checking for null values\n",
    "features = ['cycle', 'ambient_temperature',\n",
    "                                'capacity', 'voltage_measured',\n",
    "                                'current_measured', 'temperature_measured',\n",
    "                                'current_load', 'voltage_load', 'time']\n",
    "N_null = sum(dataset[features].isnull().sum())\n",
    "print(\"The dataset contains {} null values\".format(N_null)) \n",
    "\n",
    "# Removing duplicates if there exist\n",
    "N_dupli = sum(dataset.duplicated(keep='first'))\n",
    "dataset = dataset.drop_duplicates(keep='first').reset_index(drop=True)\n",
    "print(\"The dataset contains {} duplicates\".format(N_dupli))\n",
    "\n",
    "# Number of samples in the dataset\n",
    "N = dataset.shape[0]\n",
    "print('Size of cleaned dataset: ', N)"
   ]
  },
  {
   "cell_type": "markdown",
   "metadata": {},
   "source": [
    "## Correlation matrix and heatmap"
   ]
  },
  {
   "cell_type": "code",
   "execution_count": 11,
   "metadata": {},
   "outputs": [
    {
     "data": {
      "text/html": [
       "<div>\n",
       "<style scoped>\n",
       "    .dataframe tbody tr th:only-of-type {\n",
       "        vertical-align: middle;\n",
       "    }\n",
       "\n",
       "    .dataframe tbody tr th {\n",
       "        vertical-align: top;\n",
       "    }\n",
       "\n",
       "    .dataframe thead th {\n",
       "        text-align: right;\n",
       "    }\n",
       "</style>\n",
       "<table border=\"1\" class=\"dataframe\">\n",
       "  <thead>\n",
       "    <tr style=\"text-align: right;\">\n",
       "      <th></th>\n",
       "      <th>cycle</th>\n",
       "      <th>ambient_temperature</th>\n",
       "      <th>capacity</th>\n",
       "      <th>voltage_measured</th>\n",
       "      <th>current_measured</th>\n",
       "      <th>temperature_measured</th>\n",
       "      <th>current_load</th>\n",
       "      <th>voltage_load</th>\n",
       "      <th>time</th>\n",
       "    </tr>\n",
       "  </thead>\n",
       "  <tbody>\n",
       "    <tr>\n",
       "      <th>cycle</th>\n",
       "      <td>1.000000</td>\n",
       "      <td>NaN</td>\n",
       "      <td>-0.986857</td>\n",
       "      <td>-0.132877</td>\n",
       "      <td>0.127769</td>\n",
       "      <td>0.139936</td>\n",
       "      <td>0.455661</td>\n",
       "      <td>-0.177385</td>\n",
       "      <td>-0.119383</td>\n",
       "    </tr>\n",
       "    <tr>\n",
       "      <th>ambient_temperature</th>\n",
       "      <td>NaN</td>\n",
       "      <td>NaN</td>\n",
       "      <td>NaN</td>\n",
       "      <td>NaN</td>\n",
       "      <td>NaN</td>\n",
       "      <td>NaN</td>\n",
       "      <td>NaN</td>\n",
       "      <td>NaN</td>\n",
       "      <td>NaN</td>\n",
       "    </tr>\n",
       "    <tr>\n",
       "      <th>capacity</th>\n",
       "      <td>-0.986857</td>\n",
       "      <td>NaN</td>\n",
       "      <td>1.000000</td>\n",
       "      <td>0.135859</td>\n",
       "      <td>-0.132162</td>\n",
       "      <td>-0.143717</td>\n",
       "      <td>-0.407819</td>\n",
       "      <td>0.181684</td>\n",
       "      <td>0.119542</td>\n",
       "    </tr>\n",
       "    <tr>\n",
       "      <th>voltage_measured</th>\n",
       "      <td>-0.132877</td>\n",
       "      <td>NaN</td>\n",
       "      <td>0.135859</td>\n",
       "      <td>1.000000</td>\n",
       "      <td>-0.091667</td>\n",
       "      <td>-0.914580</td>\n",
       "      <td>-0.034467</td>\n",
       "      <td>0.384095</td>\n",
       "      <td>-0.817528</td>\n",
       "    </tr>\n",
       "    <tr>\n",
       "      <th>current_measured</th>\n",
       "      <td>0.127769</td>\n",
       "      <td>NaN</td>\n",
       "      <td>-0.132162</td>\n",
       "      <td>-0.091667</td>\n",
       "      <td>1.000000</td>\n",
       "      <td>0.354628</td>\n",
       "      <td>-0.350758</td>\n",
       "      <td>-0.917754</td>\n",
       "      <td>0.416898</td>\n",
       "    </tr>\n",
       "    <tr>\n",
       "      <th>temperature_measured</th>\n",
       "      <td>0.139936</td>\n",
       "      <td>NaN</td>\n",
       "      <td>-0.143717</td>\n",
       "      <td>-0.914580</td>\n",
       "      <td>0.354628</td>\n",
       "      <td>1.000000</td>\n",
       "      <td>-0.091684</td>\n",
       "      <td>-0.601707</td>\n",
       "      <td>0.915537</td>\n",
       "    </tr>\n",
       "    <tr>\n",
       "      <th>current_load</th>\n",
       "      <td>0.455661</td>\n",
       "      <td>NaN</td>\n",
       "      <td>-0.407819</td>\n",
       "      <td>-0.034467</td>\n",
       "      <td>-0.350758</td>\n",
       "      <td>-0.091684</td>\n",
       "      <td>1.000000</td>\n",
       "      <td>0.289994</td>\n",
       "      <td>-0.225579</td>\n",
       "    </tr>\n",
       "    <tr>\n",
       "      <th>voltage_load</th>\n",
       "      <td>-0.177385</td>\n",
       "      <td>NaN</td>\n",
       "      <td>0.181684</td>\n",
       "      <td>0.384095</td>\n",
       "      <td>-0.917754</td>\n",
       "      <td>-0.601707</td>\n",
       "      <td>0.289994</td>\n",
       "      <td>1.000000</td>\n",
       "      <td>-0.628276</td>\n",
       "    </tr>\n",
       "    <tr>\n",
       "      <th>time</th>\n",
       "      <td>-0.119383</td>\n",
       "      <td>NaN</td>\n",
       "      <td>0.119542</td>\n",
       "      <td>-0.817528</td>\n",
       "      <td>0.416898</td>\n",
       "      <td>0.915537</td>\n",
       "      <td>-0.225579</td>\n",
       "      <td>-0.628276</td>\n",
       "      <td>1.000000</td>\n",
       "    </tr>\n",
       "  </tbody>\n",
       "</table>\n",
       "</div>"
      ],
      "text/plain": [
       "                         cycle  ambient_temperature  capacity  \\\n",
       "cycle                 1.000000                  NaN -0.986857   \n",
       "ambient_temperature        NaN                  NaN       NaN   \n",
       "capacity             -0.986857                  NaN  1.000000   \n",
       "voltage_measured     -0.132877                  NaN  0.135859   \n",
       "current_measured      0.127769                  NaN -0.132162   \n",
       "temperature_measured  0.139936                  NaN -0.143717   \n",
       "current_load          0.455661                  NaN -0.407819   \n",
       "voltage_load         -0.177385                  NaN  0.181684   \n",
       "time                 -0.119383                  NaN  0.119542   \n",
       "\n",
       "                      voltage_measured  current_measured  \\\n",
       "cycle                        -0.132877          0.127769   \n",
       "ambient_temperature                NaN               NaN   \n",
       "capacity                      0.135859         -0.132162   \n",
       "voltage_measured              1.000000         -0.091667   \n",
       "current_measured             -0.091667          1.000000   \n",
       "temperature_measured         -0.914580          0.354628   \n",
       "current_load                 -0.034467         -0.350758   \n",
       "voltage_load                  0.384095         -0.917754   \n",
       "time                         -0.817528          0.416898   \n",
       "\n",
       "                      temperature_measured  current_load  voltage_load  \\\n",
       "cycle                             0.139936      0.455661     -0.177385   \n",
       "ambient_temperature                    NaN           NaN           NaN   \n",
       "capacity                         -0.143717     -0.407819      0.181684   \n",
       "voltage_measured                 -0.914580     -0.034467      0.384095   \n",
       "current_measured                  0.354628     -0.350758     -0.917754   \n",
       "temperature_measured              1.000000     -0.091684     -0.601707   \n",
       "current_load                     -0.091684      1.000000      0.289994   \n",
       "voltage_load                     -0.601707      0.289994      1.000000   \n",
       "time                              0.915537     -0.225579     -0.628276   \n",
       "\n",
       "                          time  \n",
       "cycle                -0.119383  \n",
       "ambient_temperature        NaN  \n",
       "capacity              0.119542  \n",
       "voltage_measured     -0.817528  \n",
       "current_measured      0.416898  \n",
       "temperature_measured  0.915537  \n",
       "current_load         -0.225579  \n",
       "voltage_load         -0.628276  \n",
       "time                  1.000000  "
      ]
     },
     "execution_count": 11,
     "metadata": {},
     "output_type": "execute_result"
    }
   ],
   "source": [
    "dataset[features].corr()"
   ]
  },
  {
   "cell_type": "code",
   "execution_count": 12,
   "metadata": {},
   "outputs": [],
   "source": [
    "dataset.corr().to_csv(r'Statistics/battery-corr.csv', index = True)"
   ]
  },
  {
   "cell_type": "code",
   "execution_count": 13,
   "metadata": {},
   "outputs": [
    {
     "data": {
      "text/plain": [
       "<AxesSubplot:>"
      ]
     },
     "execution_count": 13,
     "metadata": {},
     "output_type": "execute_result"
    },
    {
     "data": {
      "image/png": "[encoded data removed]",
      "text/plain": [
       "<Figure size 1440x720 with 2 Axes>"
      ]
     },
     "metadata": {
      "needs_background": "light"
     },
     "output_type": "display_data"
    }
   ],
   "source": [
    "# make correlation matrix to heatmap\n",
    "f, ax = plt.subplots(figsize=(20, 10))\n",
    "sns.heatmap(dataset[features].corr(), cmap='YlGnBu', vmax = .9, square = True, annot=True)"
   ]
  },
  {
   "cell_type": "markdown",
   "metadata": {},
   "source": [
    "## Feature importance"
   ]
  },
  {
   "cell_type": "code",
   "execution_count": 14,
   "metadata": {},
   "outputs": [],
   "source": [
    "X = dataset[['cycle', 'ambient_temperature',\n",
    "                                 'voltage_measured',\n",
    "                                'current_measured', 'temperature_measured',\n",
    "                                'current_load', 'voltage_load', 'time']]\n",
    "y = dataset['capacity']"
   ]
  },
  {
   "cell_type": "code",
   "execution_count": 15,
   "metadata": {},
   "outputs": [],
   "source": [
    "rf = ensemble.RandomForestRegressor()\n",
    "single_rf = ensemble.RandomForestRegressor(n_estimators = 200, max_depth = 15)\n",
    "single_rf.fit(X, y)\n",
    "y_pred = single_rf.predict(X)"
   ]
  },
  {
   "cell_type": "code",
   "execution_count": 16,
   "metadata": {},
   "outputs": [
    {
     "data": {
      "image/png": "[encoded data removed]",
      "text/plain": [
       "<Figure size 1296x504 with 1 Axes>"
      ]
     },
     "metadata": {
      "needs_background": "light"
     },
     "output_type": "display_data"
    }
   ],
   "source": [
    "# graph feature importance\n",
    "importances = single_rf.feature_importances_\n",
    "indices = np.argsort(importances)[::-1]\n",
    "feature_names = X.columns    \n",
    "f, ax = plt.subplots(figsize=(18, 7))\n",
    "plt.title(\"Feature ranking\", fontsize = 16)\n",
    "plt.bar(range(X.shape[1]), importances[indices], color=\"g\", align=\"center\")\n",
    "plt.xticks(range(X.shape[1]), feature_names)\n",
    "plt.xlim([-1, X.shape[1]])\n",
    "plt.ylabel(\"Importance\", fontsize = 15)\n",
    "plt.xlabel(\"Feature\", fontsize = 15)\n",
    "plt.show()"
   ]
  },
  {
   "cell_type": "markdown",
   "metadata": {},
   "source": [
    "Cycle is the only one revelant to capacity"
   ]
  },
  {
   "cell_type": "code",
   "execution_count": 17,
   "metadata": {},
   "outputs": [
    {
     "name": "stdout",
     "output_type": "stream",
     "text": [
      "cycle                   9.998857e-01\n",
      "current_load            1.143271e-04\n",
      "current_measured        1.908401e-08\n",
      "time                    8.023529e-10\n",
      "voltage_measured        6.937986e-14\n",
      "temperature_measured    6.628725e-14\n",
      "voltage_load            5.554914e-14\n",
      "ambient_temperature     0.000000e+00\n",
      "dtype: float64\n"
     ]
    }
   ],
   "source": [
    "# list feature importance\n",
    "important_features = pd.Series(data=single_rf.feature_importances_,index=X.columns)\n",
    "important_features.sort_values(ascending=False,inplace=True)\n",
    "print(important_features.head(10))"
   ]
  },
  {
   "cell_type": "markdown",
   "metadata": {},
   "source": [
    "From the feature importance result, it seems that cycle is the only considerable feature to predict capacity. "
   ]
  },
  {
   "cell_type": "markdown",
   "metadata": {},
   "source": [
    "## Split data and scaling data"
   ]
  },
  {
   "cell_type": "code",
   "execution_count": 18,
   "metadata": {},
   "outputs": [],
   "source": [
    "X_train, X_test, y_train, y_test = train_test_split(X, y, test_size=0.2, shuffle=False)"
   ]
  },
  {
   "cell_type": "code",
   "execution_count": 19,
   "metadata": {},
   "outputs": [
    {
     "data": {
      "text/html": [
       "<div>\n",
       "<style scoped>\n",
       "    .dataframe tbody tr th:only-of-type {\n",
       "        vertical-align: middle;\n",
       "    }\n",
       "\n",
       "    .dataframe tbody tr th {\n",
       "        vertical-align: top;\n",
       "    }\n",
       "\n",
       "    .dataframe thead th {\n",
       "        text-align: right;\n",
       "    }\n",
       "</style>\n",
       "<table border=\"1\" class=\"dataframe\">\n",
       "  <thead>\n",
       "    <tr style=\"text-align: right;\">\n",
       "      <th></th>\n",
       "      <th>cycle</th>\n",
       "      <th>ambient_temperature</th>\n",
       "      <th>voltage_measured</th>\n",
       "      <th>current_measured</th>\n",
       "      <th>temperature_measured</th>\n",
       "      <th>current_load</th>\n",
       "      <th>voltage_load</th>\n",
       "      <th>time</th>\n",
       "    </tr>\n",
       "  </thead>\n",
       "  <tbody>\n",
       "    <tr>\n",
       "      <th>0</th>\n",
       "      <td>1</td>\n",
       "      <td>24</td>\n",
       "      <td>4.191492</td>\n",
       "      <td>-0.004902</td>\n",
       "      <td>24.330034</td>\n",
       "      <td>-0.0006</td>\n",
       "      <td>0.000</td>\n",
       "      <td>0.000</td>\n",
       "    </tr>\n",
       "    <tr>\n",
       "      <th>1</th>\n",
       "      <td>1</td>\n",
       "      <td>24</td>\n",
       "      <td>4.190749</td>\n",
       "      <td>-0.001478</td>\n",
       "      <td>24.325993</td>\n",
       "      <td>-0.0006</td>\n",
       "      <td>4.206</td>\n",
       "      <td>16.781</td>\n",
       "    </tr>\n",
       "    <tr>\n",
       "      <th>2</th>\n",
       "      <td>1</td>\n",
       "      <td>24</td>\n",
       "      <td>3.974871</td>\n",
       "      <td>-2.012528</td>\n",
       "      <td>24.389085</td>\n",
       "      <td>-1.9982</td>\n",
       "      <td>3.062</td>\n",
       "      <td>35.703</td>\n",
       "    </tr>\n",
       "    <tr>\n",
       "      <th>3</th>\n",
       "      <td>1</td>\n",
       "      <td>24</td>\n",
       "      <td>3.951717</td>\n",
       "      <td>-2.013979</td>\n",
       "      <td>24.544752</td>\n",
       "      <td>-1.9982</td>\n",
       "      <td>3.030</td>\n",
       "      <td>53.781</td>\n",
       "    </tr>\n",
       "    <tr>\n",
       "      <th>4</th>\n",
       "      <td>1</td>\n",
       "      <td>24</td>\n",
       "      <td>3.934352</td>\n",
       "      <td>-2.011144</td>\n",
       "      <td>24.731385</td>\n",
       "      <td>-1.9982</td>\n",
       "      <td>3.011</td>\n",
       "      <td>71.922</td>\n",
       "    </tr>\n",
       "    <tr>\n",
       "      <th>...</th>\n",
       "      <td>...</td>\n",
       "      <td>...</td>\n",
       "      <td>...</td>\n",
       "      <td>...</td>\n",
       "      <td>...</td>\n",
       "      <td>...</td>\n",
       "      <td>...</td>\n",
       "      <td>...</td>\n",
       "    </tr>\n",
       "    <tr>\n",
       "      <th>40223</th>\n",
       "      <td>135</td>\n",
       "      <td>24</td>\n",
       "      <td>3.360799</td>\n",
       "      <td>-2.010457</td>\n",
       "      <td>36.185453</td>\n",
       "      <td>1.9982</td>\n",
       "      <td>2.398</td>\n",
       "      <td>1855.031</td>\n",
       "    </tr>\n",
       "    <tr>\n",
       "      <th>40224</th>\n",
       "      <td>135</td>\n",
       "      <td>24</td>\n",
       "      <td>3.358384</td>\n",
       "      <td>-2.012746</td>\n",
       "      <td>36.238577</td>\n",
       "      <td>1.9982</td>\n",
       "      <td>2.396</td>\n",
       "      <td>1864.406</td>\n",
       "    </tr>\n",
       "    <tr>\n",
       "      <th>40225</th>\n",
       "      <td>135</td>\n",
       "      <td>24</td>\n",
       "      <td>3.356175</td>\n",
       "      <td>-2.012531</td>\n",
       "      <td>36.295522</td>\n",
       "      <td>1.9982</td>\n",
       "      <td>2.394</td>\n",
       "      <td>1873.703</td>\n",
       "    </tr>\n",
       "    <tr>\n",
       "      <th>40226</th>\n",
       "      <td>135</td>\n",
       "      <td>24</td>\n",
       "      <td>3.353691</td>\n",
       "      <td>-2.012193</td>\n",
       "      <td>36.352229</td>\n",
       "      <td>1.9982</td>\n",
       "      <td>2.392</td>\n",
       "      <td>1883.063</td>\n",
       "    </tr>\n",
       "    <tr>\n",
       "      <th>40227</th>\n",
       "      <td>135</td>\n",
       "      <td>24</td>\n",
       "      <td>3.351290</td>\n",
       "      <td>-2.011846</td>\n",
       "      <td>36.394356</td>\n",
       "      <td>1.9982</td>\n",
       "      <td>2.389</td>\n",
       "      <td>1892.391</td>\n",
       "    </tr>\n",
       "  </tbody>\n",
       "</table>\n",
       "<p>40228 rows × 8 columns</p>\n",
       "</div>"
      ],
      "text/plain": [
       "       cycle  ambient_temperature  voltage_measured  current_measured  \\\n",
       "0          1                   24          4.191492         -0.004902   \n",
       "1          1                   24          4.190749         -0.001478   \n",
       "2          1                   24          3.974871         -2.012528   \n",
       "3          1                   24          3.951717         -2.013979   \n",
       "4          1                   24          3.934352         -2.011144   \n",
       "...      ...                  ...               ...               ...   \n",
       "40223    135                   24          3.360799         -2.010457   \n",
       "40224    135                   24          3.358384         -2.012746   \n",
       "40225    135                   24          3.356175         -2.012531   \n",
       "40226    135                   24          3.353691         -2.012193   \n",
       "40227    135                   24          3.351290         -2.011846   \n",
       "\n",
       "       temperature_measured  current_load  voltage_load      time  \n",
       "0                 24.330034       -0.0006         0.000     0.000  \n",
       "1                 24.325993       -0.0006         4.206    16.781  \n",
       "2                 24.389085       -1.9982         3.062    35.703  \n",
       "3                 24.544752       -1.9982         3.030    53.781  \n",
       "4                 24.731385       -1.9982         3.011    71.922  \n",
       "...                     ...           ...           ...       ...  \n",
       "40223             36.185453        1.9982         2.398  1855.031  \n",
       "40224             36.238577        1.9982         2.396  1864.406  \n",
       "40225             36.295522        1.9982         2.394  1873.703  \n",
       "40226             36.352229        1.9982         2.392  1883.063  \n",
       "40227             36.394356        1.9982         2.389  1892.391  \n",
       "\n",
       "[40228 rows x 8 columns]"
      ]
     },
     "execution_count": 19,
     "metadata": {},
     "output_type": "execute_result"
    }
   ],
   "source": [
    "X_train"
   ]
  },
  {
   "cell_type": "code",
   "execution_count": 20,
   "metadata": {},
   "outputs": [
    {
     "data": {
      "text/html": [
       "<div>\n",
       "<style scoped>\n",
       "    .dataframe tbody tr th:only-of-type {\n",
       "        vertical-align: middle;\n",
       "    }\n",
       "\n",
       "    .dataframe tbody tr th {\n",
       "        vertical-align: top;\n",
       "    }\n",
       "\n",
       "    .dataframe thead th {\n",
       "        text-align: right;\n",
       "    }\n",
       "</style>\n",
       "<table border=\"1\" class=\"dataframe\">\n",
       "  <thead>\n",
       "    <tr style=\"text-align: right;\">\n",
       "      <th></th>\n",
       "      <th>cycle</th>\n",
       "      <th>ambient_temperature</th>\n",
       "      <th>voltage_measured</th>\n",
       "      <th>current_measured</th>\n",
       "      <th>temperature_measured</th>\n",
       "      <th>current_load</th>\n",
       "      <th>voltage_load</th>\n",
       "      <th>time</th>\n",
       "    </tr>\n",
       "  </thead>\n",
       "  <tbody>\n",
       "    <tr>\n",
       "      <th>40228</th>\n",
       "      <td>135</td>\n",
       "      <td>24</td>\n",
       "      <td>3.348997</td>\n",
       "      <td>-2.011760</td>\n",
       "      <td>36.448980</td>\n",
       "      <td>1.9980</td>\n",
       "      <td>2.387</td>\n",
       "      <td>1901.828</td>\n",
       "    </tr>\n",
       "    <tr>\n",
       "      <th>40229</th>\n",
       "      <td>135</td>\n",
       "      <td>24</td>\n",
       "      <td>3.346386</td>\n",
       "      <td>-2.012456</td>\n",
       "      <td>36.507417</td>\n",
       "      <td>1.9982</td>\n",
       "      <td>2.384</td>\n",
       "      <td>1911.219</td>\n",
       "    </tr>\n",
       "    <tr>\n",
       "      <th>40230</th>\n",
       "      <td>135</td>\n",
       "      <td>24</td>\n",
       "      <td>3.343825</td>\n",
       "      <td>-2.014181</td>\n",
       "      <td>36.559807</td>\n",
       "      <td>1.9982</td>\n",
       "      <td>2.382</td>\n",
       "      <td>1920.609</td>\n",
       "    </tr>\n",
       "    <tr>\n",
       "      <th>40231</th>\n",
       "      <td>135</td>\n",
       "      <td>24</td>\n",
       "      <td>3.341496</td>\n",
       "      <td>-2.011917</td>\n",
       "      <td>36.622468</td>\n",
       "      <td>1.9982</td>\n",
       "      <td>2.380</td>\n",
       "      <td>1929.969</td>\n",
       "    </tr>\n",
       "    <tr>\n",
       "      <th>40232</th>\n",
       "      <td>135</td>\n",
       "      <td>24</td>\n",
       "      <td>3.338640</td>\n",
       "      <td>-2.012436</td>\n",
       "      <td>36.671214</td>\n",
       "      <td>1.9982</td>\n",
       "      <td>2.377</td>\n",
       "      <td>1939.359</td>\n",
       "    </tr>\n",
       "    <tr>\n",
       "      <th>...</th>\n",
       "      <td>...</td>\n",
       "      <td>...</td>\n",
       "      <td>...</td>\n",
       "      <td>...</td>\n",
       "      <td>...</td>\n",
       "      <td>...</td>\n",
       "      <td>...</td>\n",
       "      <td>...</td>\n",
       "    </tr>\n",
       "    <tr>\n",
       "      <th>50280</th>\n",
       "      <td>168</td>\n",
       "      <td>24</td>\n",
       "      <td>3.579262</td>\n",
       "      <td>-0.001569</td>\n",
       "      <td>34.864823</td>\n",
       "      <td>0.0006</td>\n",
       "      <td>0.000</td>\n",
       "      <td>2781.312</td>\n",
       "    </tr>\n",
       "    <tr>\n",
       "      <th>50281</th>\n",
       "      <td>168</td>\n",
       "      <td>24</td>\n",
       "      <td>3.581964</td>\n",
       "      <td>-0.003067</td>\n",
       "      <td>34.814770</td>\n",
       "      <td>0.0006</td>\n",
       "      <td>0.000</td>\n",
       "      <td>2791.062</td>\n",
       "    </tr>\n",
       "    <tr>\n",
       "      <th>50282</th>\n",
       "      <td>168</td>\n",
       "      <td>24</td>\n",
       "      <td>3.584484</td>\n",
       "      <td>-0.003079</td>\n",
       "      <td>34.676258</td>\n",
       "      <td>0.0006</td>\n",
       "      <td>0.000</td>\n",
       "      <td>2800.828</td>\n",
       "    </tr>\n",
       "    <tr>\n",
       "      <th>50283</th>\n",
       "      <td>168</td>\n",
       "      <td>24</td>\n",
       "      <td>3.587336</td>\n",
       "      <td>0.001219</td>\n",
       "      <td>34.565580</td>\n",
       "      <td>0.0006</td>\n",
       "      <td>0.000</td>\n",
       "      <td>2810.640</td>\n",
       "    </tr>\n",
       "    <tr>\n",
       "      <th>50284</th>\n",
       "      <td>168</td>\n",
       "      <td>24</td>\n",
       "      <td>3.589937</td>\n",
       "      <td>-0.000583</td>\n",
       "      <td>34.405920</td>\n",
       "      <td>0.0006</td>\n",
       "      <td>0.000</td>\n",
       "      <td>2820.390</td>\n",
       "    </tr>\n",
       "  </tbody>\n",
       "</table>\n",
       "<p>10057 rows × 8 columns</p>\n",
       "</div>"
      ],
      "text/plain": [
       "       cycle  ambient_temperature  voltage_measured  current_measured  \\\n",
       "40228    135                   24          3.348997         -2.011760   \n",
       "40229    135                   24          3.346386         -2.012456   \n",
       "40230    135                   24          3.343825         -2.014181   \n",
       "40231    135                   24          3.341496         -2.011917   \n",
       "40232    135                   24          3.338640         -2.012436   \n",
       "...      ...                  ...               ...               ...   \n",
       "50280    168                   24          3.579262         -0.001569   \n",
       "50281    168                   24          3.581964         -0.003067   \n",
       "50282    168                   24          3.584484         -0.003079   \n",
       "50283    168                   24          3.587336          0.001219   \n",
       "50284    168                   24          3.589937         -0.000583   \n",
       "\n",
       "       temperature_measured  current_load  voltage_load      time  \n",
       "40228             36.448980        1.9980         2.387  1901.828  \n",
       "40229             36.507417        1.9982         2.384  1911.219  \n",
       "40230             36.559807        1.9982         2.382  1920.609  \n",
       "40231             36.622468        1.9982         2.380  1929.969  \n",
       "40232             36.671214        1.9982         2.377  1939.359  \n",
       "...                     ...           ...           ...       ...  \n",
       "50280             34.864823        0.0006         0.000  2781.312  \n",
       "50281             34.814770        0.0006         0.000  2791.062  \n",
       "50282             34.676258        0.0006         0.000  2800.828  \n",
       "50283             34.565580        0.0006         0.000  2810.640  \n",
       "50284             34.405920        0.0006         0.000  2820.390  \n",
       "\n",
       "[10057 rows x 8 columns]"
      ]
     },
     "execution_count": 20,
     "metadata": {},
     "output_type": "execute_result"
    }
   ],
   "source": [
    "X_test"
   ]
  },
  {
   "cell_type": "code",
   "execution_count": 21,
   "metadata": {},
   "outputs": [],
   "source": [
    "# pickle data for later use\n",
    "dump(X_train, open(\"pickle/dataset/battery/X_train.pkl\", \"wb\"))\n",
    "dump(y_train, open(\"pickle/dataset/battery/y_train.pkl\", \"wb\"))\n",
    "dump(X_test, open(\"pickle/dataset/battery/X_test.pkl\", \"wb\"))\n",
    "dump(y_test, open(\"pickle/dataset/battery/y_test.pkl\", \"wb\"))"
   ]
  },
  {
   "cell_type": "markdown",
   "metadata": {},
   "source": [
    "## SVM regressor"
   ]
  },
  {
   "cell_type": "code",
   "execution_count": 22,
   "metadata": {},
   "outputs": [],
   "source": [
    "# load data\n",
    "X_train = load(open('pickle/dataset/battery/X_train.pkl', 'rb'))\n",
    "y_train = load(open('pickle/dataset/battery/y_train.pkl', 'rb'))\n",
    "X_test = load(open('pickle/dataset/battery/X_test.pkl', 'rb'))\n",
    "y_test = load(open('pickle/dataset/battery/y_test.pkl', 'rb'))"
   ]
  },
  {
   "cell_type": "code",
   "execution_count": 23,
   "metadata": {},
   "outputs": [
    {
     "data": {
      "text/plain": [
       "SVR(C=20, epsilon=0.0001, gamma=1e-05)"
      ]
     },
     "execution_count": 23,
     "metadata": {},
     "output_type": "execute_result"
    }
   ],
   "source": [
    "svr = SVR(C=20, epsilon=0.0001, gamma=0.00001, cache_size=200,\n",
    "  kernel='rbf', max_iter=-1, shrinking=True, tol=0.001, verbose=False)\n",
    "\n",
    "svr.fit(X_train,y_train)"
   ]
  },
  {
   "cell_type": "code",
   "execution_count": 24,
   "metadata": {},
   "outputs": [],
   "source": [
    "y_pred = svr.predict(X_train.append(X_test))"
   ]
  },
  {
   "cell_type": "code",
   "execution_count": 25,
   "metadata": {},
   "outputs": [
    {
     "data": {
      "text/plain": [
       "<matplotlib.legend.Legend at 0x14b444670>"
      ]
     },
     "execution_count": 25,
     "metadata": {},
     "output_type": "execute_result"
    },
    {
     "data": {
      "image/png": "[encoded data removed]",
      "text/plain": [
       "<Figure size 864x576 with 1 Axes>"
      ]
     },
     "metadata": {
      "needs_background": "light"
     },
     "output_type": "display_data"
    }
   ],
   "source": [
    "fig, ax = plt.subplots(1, figsize=(12, 8))\n",
    "ax.plot(X_train.append(X_test)['cycle'], y_train.append(y_test), color='green', label='Battery capacity data')\n",
    "ax.plot(X_train.append(X_test)['cycle'], y_pred, color='red', label='Fitted model')\n",
    "ax.plot([0.,168], [1.38, 1.38],dashes=[6, 2], label=\"EoL Threshold\")\n",
    "ax.set(xlabel='Cycle numbers', ylabel='Capacity')\n",
    "ax.legend()"
   ]
  },
  {
   "cell_type": "code",
   "execution_count": 26,
   "metadata": {},
   "outputs": [],
   "source": [
    "dataset['pre'] = y_pred"
   ]
  },
  {
   "cell_type": "code",
   "execution_count": 27,
   "metadata": {},
   "outputs": [
    {
     "name": "stdout",
     "output_type": "stream",
     "text": [
      "The Actual fail at cycle number: 129\n",
      "The prediction fail at cycle number: 127\n",
      "The error of RUL= -2 Cycle(s)\n"
     ]
    }
   ],
   "source": [
    "#ln = len(X_train)\n",
    "pred=0\n",
    "Afil=0\n",
    "Pfil=0\n",
    "a=dataset['capacity'].values\n",
    "b=dataset['pre'].values\n",
    "j=0\n",
    "k=0\n",
    "for i in range(len(a)):\n",
    "    actual=a[i]\n",
    "    \n",
    "    if actual<=1.38:\n",
    "        j=i\n",
    "        Afil=dataset['cycle'][j]\n",
    "        break\n",
    "for i in range(len(a)):\n",
    "    pred=b[i]\n",
    "    if pred< 1.38:\n",
    "        k=i\n",
    "        Pfil=dataset['cycle'][k]\n",
    "        break\n",
    "print(\"The Actual fail at cycle number: \"+ str(Afil))\n",
    "print(\"The prediction fail at cycle number: \"+ str(Pfil))\n",
    "RULerror=Pfil-Afil\n",
    "print(\"The error of RUL= \"+ str(RULerror)+ \" Cycle(s)\")"
   ]
  },
  {
   "cell_type": "code",
   "execution_count": 28,
   "metadata": {},
   "outputs": [
    {
     "name": "stdout",
     "output_type": "stream",
     "text": [
      "Train RMSE: 0.014\n",
      "Train R2 score: 0.9918552027791366\n",
      "Test RMSE: 0.048\n",
      "Test R2 score: -4.028755379916393\n"
     ]
    }
   ],
   "source": [
    "train_predictions = svr.predict(X_train)\n",
    "rmse = np.sqrt(mean_squared_error(y_train, train_predictions))\n",
    "print('Train RMSE: %.3f' % rmse)\n",
    "print(\"Train R2 score:\", sklearn.metrics.r2_score(y_train, train_predictions))\n",
    "\n",
    "test_predictions = svr.predict(X_test)\n",
    "rmse = np.sqrt(mean_squared_error(y_test, test_predictions))\n",
    "print('Test RMSE: %.3f' % rmse)\n",
    "print(\"Test R2 score:\", sklearn.metrics.r2_score(y_test, test_predictions))"
   ]
  },
  {
   "cell_type": "markdown",
   "metadata": {},
   "source": [
    "## Auto ML"
   ]
  },
  {
   "cell_type": "markdown",
   "metadata": {},
   "source": [
    "## TPOT"
   ]
  },
  {
   "cell_type": "code",
   "execution_count": 29,
   "metadata": {},
   "outputs": [],
   "source": [
    "# load data\n",
    "X_train = load(open('pickle/dataset/battery/X_train.pkl', 'rb'))\n",
    "y_train = load(open('pickle/dataset/battery/y_train.pkl', 'rb'))\n",
    "X_test = load(open('pickle/dataset/battery/X_test.pkl', 'rb'))\n",
    "y_test = load(open('pickle/dataset/battery/y_test.pkl', 'rb'))"
   ]
  },
  {
   "cell_type": "code",
   "execution_count": 30,
   "metadata": {},
   "outputs": [
    {
     "name": "stdout",
     "output_type": "stream",
     "text": [
      "                                                                               \n",
      "Generation 1 - Current best internal CV score: -0.0010987347994880538\n",
      "                                                                                \n",
      "Generation 2 - Current best internal CV score: -0.0010987347994880538\n",
      "                                                                                \n",
      "Generation 3 - Current best internal CV score: -0.0010660519615302666\n",
      "                                                                                \n",
      "Generation 4 - Current best internal CV score: -0.0010660519615302666\n",
      "                                                                                \n",
      "Generation 5 - Current best internal CV score: -0.0010660519615302666\n",
      "                                                             \n",
      "Best pipeline: LassoLarsCV(ExtraTreesRegressor(SelectFromModel(input_matrix, max_features=0.9500000000000001, n_estimators=100, threshold=0.35000000000000003), bootstrap=True, max_features=0.9500000000000001, min_samples_leaf=8, min_samples_split=7, n_estimators=100), normalize=False)\n",
      "-0.002540389030144266\n"
     ]
    }
   ],
   "source": [
    "from tpot import TPOTRegressor\n",
    "tpot = TPOTRegressor(generations=5, population_size=50, verbosity=2)\n",
    "tpot.fit(X_train, y_train)\n",
    "print(tpot.score(X_test, y_test))\n",
    "tpot.export('TPOT/tpot_battery_pipeline.py')"
   ]
  },
  {
   "cell_type": "markdown",
   "metadata": {},
   "source": [
    "### Try the best TPOT result"
   ]
  },
  {
   "cell_type": "code",
   "execution_count": 36,
   "metadata": {},
   "outputs": [
    {
     "name": "stdout",
     "output_type": "stream",
     "text": [
      "Total data in dataset:  616\n",
      "[1, 24, datetime.datetime(2008, 4, 2, 15, 25, 41), 1.8564874208181574, 4.191491807505295, -0.004901589207462691, 24.330033885570543, -0.0006, 0.0, 0.0]\n"
     ]
    },
    {
     "data": {
      "text/plain": [
       "<matplotlib.legend.Legend at 0x14d1df7c0>"
      ]
     },
     "execution_count": 36,
     "metadata": {},
     "output_type": "execute_result"
    },
    {
     "data": {
      "image/png": "[encoded data removed]",
      "text/plain": [
       "<Figure size 864x576 with 1 Axes>"
      ]
     },
     "metadata": {
      "needs_background": "light"
     },
     "output_type": "display_data"
    }
   ],
   "source": [
    "import numpy as np\n",
    "import pandas as pd\n",
    "from sklearn.ensemble import ExtraTreesRegressor\n",
    "from sklearn.feature_selection import SelectFromModel\n",
    "from sklearn.linear_model import LassoLarsCV\n",
    "from sklearn.model_selection import train_test_split\n",
    "from sklearn.pipeline import make_pipeline, make_union\n",
    "from tpot.builtins import StackingEstimator\n",
    "\n",
    "exported_pipeline = make_pipeline(\n",
    "    SelectFromModel(estimator=ExtraTreesRegressor(max_features=0.9500000000000001, n_estimators=100), threshold=0.35000000000000003),\n",
    "    StackingEstimator(estimator=ExtraTreesRegressor(bootstrap=True, max_features=0.9500000000000001, min_samples_leaf=8, min_samples_split=7, n_estimators=100)),\n",
    "    LassoLarsCV(normalize=False)\n",
    ")\n",
    "\n",
    "exported_pipeline.fit(X_train, y_train)\n",
    "results = exported_pipeline.predict(X_train.append(X_test))\n",
    "\n",
    "fig, ax = plt.subplots(1, figsize=(12, 8))\n",
    "\n",
    "dataset, _ = load_data('B0005')\n",
    "X = dataset[['cycle']]\n",
    "y = dataset['capacity']\n",
    "ax.plot(X, y, color='green', label='Battery capacity data')\n",
    "ax.plot(X, results, color='red', label='Fitted model')\n",
    "ax.plot([0.,168], [1.38, 1.38],dashes=[6, 2], label=\"EoL Threshold\")\n",
    "ax.set(xlabel='Cycle numbers', ylabel='Capacity')\n",
    "ax.legend()"
   ]
  },
  {
   "cell_type": "code",
   "execution_count": 32,
   "metadata": {},
   "outputs": [
    {
     "data": {
      "text/plain": [
       "array([1.85648742, 1.85648742, 1.85648742, ..., 1.36985   , 1.36985   ,\n",
       "       1.36985   ])"
      ]
     },
     "execution_count": 32,
     "metadata": {},
     "output_type": "execute_result"
    }
   ],
   "source": [
    "results"
   ]
  },
  {
   "cell_type": "code",
   "execution_count": 37,
   "metadata": {},
   "outputs": [
    {
     "name": "stdout",
     "output_type": "stream",
     "text": [
      "The Actual fail at cycle number: 129\n",
      "The prediction fail at cycle number: 129\n",
      "The error of RUL= 0 Cycle(s)\n"
     ]
    }
   ],
   "source": [
    "dataset['pre'] = results\n",
    "\n",
    "pred=0\n",
    "Afil=0\n",
    "Pfil=0\n",
    "a=dataset['capacity'].values\n",
    "b=dataset['pre'].values\n",
    "j=0\n",
    "k=0\n",
    "for i in range(len(a)):\n",
    "    actual=a[i]\n",
    "    \n",
    "    if actual<=1.38:\n",
    "        j=i\n",
    "        Afil=dataset['cycle'][j]\n",
    "        break\n",
    "for i in range(len(a)):\n",
    "    pred=b[i]\n",
    "    if pred< 1.38:\n",
    "        k=i\n",
    "        Pfil=dataset['cycle'][k]\n",
    "        break\n",
    "print(\"The Actual fail at cycle number: \"+ str(Afil))\n",
    "print(\"The prediction fail at cycle number: \"+ str(Pfil))\n",
    "RULerror=Pfil-Afil\n",
    "print(\"The error of RUL= \"+ str(RULerror)+ \" Cycle(s)\")"
   ]
  },
  {
   "cell_type": "code",
   "execution_count": 38,
   "metadata": {},
   "outputs": [
    {
     "name": "stdout",
     "output_type": "stream",
     "text": [
      "Train RMSE: 0.000\n",
      "Train R2 score: 1.0\n",
      "Test RMSE: 0.050\n",
      "Test R2 score: -4.48447130580669\n"
     ]
    }
   ],
   "source": [
    "train_predictions = exported_pipeline.predict(X_train)\n",
    "rmse = np.sqrt(mean_squared_error(y_train, train_predictions))\n",
    "print('Train RMSE: %.3f' % rmse)\n",
    "print(\"Train R2 score:\", sklearn.metrics.r2_score(y_train, train_predictions))\n",
    "\n",
    "test_predictions = exported_pipeline.predict(X_test)\n",
    "rmse = np.sqrt(mean_squared_error(y_test, test_predictions))\n",
    "print('Test RMSE: %.3f' % rmse)\n",
    "print(\"Test R2 score:\", sklearn.metrics.r2_score(y_test, test_predictions))"
   ]
  },
  {
   "cell_type": "markdown",
   "metadata": {},
   "source": [
    "## XGBRegressor "
   ]
  },
  {
   "cell_type": "code",
   "execution_count": 39,
   "metadata": {},
   "outputs": [],
   "source": [
    "# load data\n",
    "X_train = load(open('pickle/dataset/battery/X_train.pkl', 'rb'))\n",
    "y_train = load(open('pickle/dataset/battery/y_train.pkl', 'rb'))\n",
    "X_test = load(open('pickle/dataset/battery/X_test.pkl', 'rb'))\n",
    "y_test = load(open('pickle/dataset/battery/y_test.pkl', 'rb'))"
   ]
  },
  {
   "cell_type": "code",
   "execution_count": 40,
   "metadata": {},
   "outputs": [],
   "source": [
    "from sklearn.linear_model import LassoLarsCV\n",
    "from sklearn.model_selection import train_test_split\n",
    "from sklearn.pipeline import make_pipeline, make_union\n",
    "from sklearn.preprocessing import PolynomialFeatures\n",
    "from tpot.builtins import StackingEstimator\n",
    "from xgboost import XGBRegressor\n",
    "\n",
    "# Average CV score on the training set was: -0.0008766141596485714\n",
    "exported_pipeline = make_pipeline(\n",
    "    StackingEstimator(estimator=XGBRegressor(learning_rate=0.001, max_depth=1, min_child_weight=9, n_estimators=100, n_jobs=1, objective=\"reg:squarederror\", subsample=0.45, verbosity=0)),\n",
    "    PolynomialFeatures(degree=2, include_bias=False, interaction_only=False),\n",
    "    LassoLarsCV(normalize=True)\n",
    ")\n",
    "exported_pipeline.fit(X_train, y_train)\n",
    "results = exported_pipeline.predict(X_train.append(X_test))"
   ]
  },
  {
   "cell_type": "code",
   "execution_count": 41,
   "metadata": {},
   "outputs": [
    {
     "name": "stdout",
     "output_type": "stream",
     "text": [
      "Total data in dataset:  616\n",
      "[1, 24, datetime.datetime(2008, 4, 2, 15, 25, 41), 1.8564874208181574, 4.191491807505295, -0.004901589207462691, 24.330033885570543, -0.0006, 0.0, 0.0]\n"
     ]
    },
    {
     "data": {
      "text/plain": [
       "<matplotlib.legend.Legend at 0x14acff3d0>"
      ]
     },
     "execution_count": 41,
     "metadata": {},
     "output_type": "execute_result"
    },
    {
     "data": {
      "image/png": "[encoded data removed]",
      "text/plain": [
       "<Figure size 864x576 with 1 Axes>"
      ]
     },
     "metadata": {
      "needs_background": "light"
     },
     "output_type": "display_data"
    }
   ],
   "source": [
    "fig, ax = plt.subplots(1, figsize=(12, 8))\n",
    "\n",
    "dataset, _ = load_data('B0005')\n",
    "X = dataset[['cycle']]\n",
    "y = dataset['capacity']\n",
    "ax.plot(X, y, color='green', label='Battery capacity data')\n",
    "ax.plot(X, results, color='red', label='Fitted model')\n",
    "ax.plot([0.,168], [1.38, 1.38],dashes=[6, 2], label=\"EoL Threshold\")\n",
    "ax.set(xlabel='Cycle numbers', ylabel='Capacity')\n",
    "ax.legend()\n"
   ]
  },
  {
   "cell_type": "code",
   "execution_count": 42,
   "metadata": {},
   "outputs": [
    {
     "name": "stdout",
     "output_type": "stream",
     "text": [
      "The Actual fail at cycle number: 129\n",
      "The prediction fail at cycle number: 130\n",
      "The error of RUL= 1 Cycle(s)\n"
     ]
    }
   ],
   "source": [
    "dataset['pre'] = results\n",
    "\n",
    "pred=0\n",
    "Afil=0\n",
    "Pfil=0\n",
    "a=dataset['capacity'].values\n",
    "b=dataset['pre'].values\n",
    "j=0\n",
    "k=0\n",
    "for i in range(len(a)):\n",
    "    actual=a[i]\n",
    "    \n",
    "    if actual<=1.38:\n",
    "        j=i\n",
    "        Afil=dataset['cycle'][j]\n",
    "        break\n",
    "for i in range(len(a)):\n",
    "    pred=b[i]\n",
    "    if pred< 1.38:\n",
    "        k=i\n",
    "        Pfil=dataset['cycle'][k]\n",
    "        break\n",
    "print(\"The Actual fail at cycle number: \"+ str(Afil))\n",
    "print(\"The prediction fail at cycle number: \"+ str(Pfil))\n",
    "RULerror=Pfil-Afil\n",
    "print(\"The error of RUL= \"+ str(RULerror)+ \" Cycle(s)\")"
   ]
  },
  {
   "cell_type": "code",
   "execution_count": 43,
   "metadata": {},
   "outputs": [
    {
     "name": "stdout",
     "output_type": "stream",
     "text": [
      "Train RMSE: 0.020\n",
      "Train R2 score: 0.9826512195746897\n",
      "Test RMSE: 0.052\n",
      "Test R2 score: -4.7678464149143815\n"
     ]
    }
   ],
   "source": [
    "train_predictions = exported_pipeline.predict(X_train)\n",
    "rmse = np.sqrt(mean_squared_error(y_train, train_predictions))\n",
    "print('Train RMSE: %.3f' % rmse)\n",
    "print(\"Train R2 score:\", sklearn.metrics.r2_score(y_train, train_predictions))\n",
    "\n",
    "test_predictions = exported_pipeline.predict(X_test)\n",
    "rmse = np.sqrt(mean_squared_error(y_test, test_predictions))\n",
    "print('Test RMSE: %.3f' % rmse)\n",
    "print(\"Test R2 score:\", sklearn.metrics.r2_score(y_test, test_predictions))"
   ]
  },
  {
   "cell_type": "markdown",
   "metadata": {},
   "source": [
    "# Train with cycle only to predict capacity"
   ]
  },
  {
   "cell_type": "code",
   "execution_count": 44,
   "metadata": {},
   "outputs": [
    {
     "name": "stdout",
     "output_type": "stream",
     "text": [
      "Total data in dataset:  616\n",
      "[1, 24, datetime.datetime(2008, 4, 2, 15, 25, 41), 1.8564874208181574, 4.191491807505295, -0.004901589207462691, 24.330033885570543, -0.0006, 0.0, 0.0]\n"
     ]
    }
   ],
   "source": [
    "dataset, capacity = load_data('B0005')"
   ]
  },
  {
   "cell_type": "code",
   "execution_count": 45,
   "metadata": {},
   "outputs": [
    {
     "data": {
      "text/html": [
       "<div>\n",
       "<style scoped>\n",
       "    .dataframe tbody tr th:only-of-type {\n",
       "        vertical-align: middle;\n",
       "    }\n",
       "\n",
       "    .dataframe tbody tr th {\n",
       "        vertical-align: top;\n",
       "    }\n",
       "\n",
       "    .dataframe thead th {\n",
       "        text-align: right;\n",
       "    }\n",
       "</style>\n",
       "<table border=\"1\" class=\"dataframe\">\n",
       "  <thead>\n",
       "    <tr style=\"text-align: right;\">\n",
       "      <th></th>\n",
       "      <th>cycle</th>\n",
       "    </tr>\n",
       "  </thead>\n",
       "  <tbody>\n",
       "    <tr>\n",
       "      <th>0</th>\n",
       "      <td>1</td>\n",
       "    </tr>\n",
       "    <tr>\n",
       "      <th>1</th>\n",
       "      <td>2</td>\n",
       "    </tr>\n",
       "    <tr>\n",
       "      <th>2</th>\n",
       "      <td>3</td>\n",
       "    </tr>\n",
       "    <tr>\n",
       "      <th>3</th>\n",
       "      <td>4</td>\n",
       "    </tr>\n",
       "    <tr>\n",
       "      <th>4</th>\n",
       "      <td>5</td>\n",
       "    </tr>\n",
       "    <tr>\n",
       "      <th>...</th>\n",
       "      <td>...</td>\n",
       "    </tr>\n",
       "    <tr>\n",
       "      <th>163</th>\n",
       "      <td>164</td>\n",
       "    </tr>\n",
       "    <tr>\n",
       "      <th>164</th>\n",
       "      <td>165</td>\n",
       "    </tr>\n",
       "    <tr>\n",
       "      <th>165</th>\n",
       "      <td>166</td>\n",
       "    </tr>\n",
       "    <tr>\n",
       "      <th>166</th>\n",
       "      <td>167</td>\n",
       "    </tr>\n",
       "    <tr>\n",
       "      <th>167</th>\n",
       "      <td>168</td>\n",
       "    </tr>\n",
       "  </tbody>\n",
       "</table>\n",
       "<p>168 rows × 1 columns</p>\n",
       "</div>"
      ],
      "text/plain": [
       "     cycle\n",
       "0        1\n",
       "1        2\n",
       "2        3\n",
       "3        4\n",
       "4        5\n",
       "..     ...\n",
       "163    164\n",
       "164    165\n",
       "165    166\n",
       "166    167\n",
       "167    168\n",
       "\n",
       "[168 rows x 1 columns]"
      ]
     },
     "execution_count": 45,
     "metadata": {},
     "output_type": "execute_result"
    }
   ],
   "source": [
    "X = capacity[['cycle']]\n",
    "X"
   ]
  },
  {
   "cell_type": "code",
   "execution_count": 46,
   "metadata": {},
   "outputs": [
    {
     "data": {
      "text/html": [
       "<div>\n",
       "<style scoped>\n",
       "    .dataframe tbody tr th:only-of-type {\n",
       "        vertical-align: middle;\n",
       "    }\n",
       "\n",
       "    .dataframe tbody tr th {\n",
       "        vertical-align: top;\n",
       "    }\n",
       "\n",
       "    .dataframe thead th {\n",
       "        text-align: right;\n",
       "    }\n",
       "</style>\n",
       "<table border=\"1\" class=\"dataframe\">\n",
       "  <thead>\n",
       "    <tr style=\"text-align: right;\">\n",
       "      <th></th>\n",
       "      <th>capacity</th>\n",
       "    </tr>\n",
       "  </thead>\n",
       "  <tbody>\n",
       "    <tr>\n",
       "      <th>0</th>\n",
       "      <td>1.856487</td>\n",
       "    </tr>\n",
       "    <tr>\n",
       "      <th>1</th>\n",
       "      <td>1.846327</td>\n",
       "    </tr>\n",
       "    <tr>\n",
       "      <th>2</th>\n",
       "      <td>1.835349</td>\n",
       "    </tr>\n",
       "    <tr>\n",
       "      <th>3</th>\n",
       "      <td>1.835263</td>\n",
       "    </tr>\n",
       "    <tr>\n",
       "      <th>4</th>\n",
       "      <td>1.834646</td>\n",
       "    </tr>\n",
       "    <tr>\n",
       "      <th>...</th>\n",
       "      <td>...</td>\n",
       "    </tr>\n",
       "    <tr>\n",
       "      <th>163</th>\n",
       "      <td>1.293464</td>\n",
       "    </tr>\n",
       "    <tr>\n",
       "      <th>164</th>\n",
       "      <td>1.288003</td>\n",
       "    </tr>\n",
       "    <tr>\n",
       "      <th>165</th>\n",
       "      <td>1.287453</td>\n",
       "    </tr>\n",
       "    <tr>\n",
       "      <th>166</th>\n",
       "      <td>1.309015</td>\n",
       "    </tr>\n",
       "    <tr>\n",
       "      <th>167</th>\n",
       "      <td>1.325079</td>\n",
       "    </tr>\n",
       "  </tbody>\n",
       "</table>\n",
       "<p>168 rows × 1 columns</p>\n",
       "</div>"
      ],
      "text/plain": [
       "     capacity\n",
       "0    1.856487\n",
       "1    1.846327\n",
       "2    1.835349\n",
       "3    1.835263\n",
       "4    1.834646\n",
       "..        ...\n",
       "163  1.293464\n",
       "164  1.288003\n",
       "165  1.287453\n",
       "166  1.309015\n",
       "167  1.325079\n",
       "\n",
       "[168 rows x 1 columns]"
      ]
     },
     "execution_count": 46,
     "metadata": {},
     "output_type": "execute_result"
    }
   ],
   "source": [
    "y = capacity[['capacity']]\n",
    "y"
   ]
  },
  {
   "cell_type": "code",
   "execution_count": 47,
   "metadata": {},
   "outputs": [],
   "source": [
    "X_train, X_test, y_train, y_test = train_test_split(X, y, test_size=0.2, shuffle=False)"
   ]
  },
  {
   "cell_type": "code",
   "execution_count": 48,
   "metadata": {},
   "outputs": [],
   "source": [
    "# pickle data for later use\n",
    "dump(X_train, open(\"pickle/dataset/battery/cycle_only/X_train.pkl\", \"wb\"))\n",
    "dump(y_train, open(\"pickle/dataset/battery/cycle_only/y_train.pkl\", \"wb\"))\n",
    "dump(X_test, open(\"pickle/dataset/battery/cycle_only/X_test.pkl\", \"wb\"))\n",
    "dump(y_test, open(\"pickle/dataset/battery/cycle_only/y_test.pkl\", \"wb\"))"
   ]
  },
  {
   "cell_type": "markdown",
   "metadata": {},
   "source": [
    "## SVR"
   ]
  },
  {
   "cell_type": "code",
   "execution_count": 49,
   "metadata": {},
   "outputs": [],
   "source": [
    "# load data\n",
    "X_train = load(open('pickle/dataset/battery/cycle_only/X_train.pkl', 'rb'))\n",
    "y_train = load(open('pickle/dataset/battery/cycle_only/y_train.pkl', 'rb'))\n",
    "X_test = load(open('pickle/dataset/battery/cycle_only/X_test.pkl', 'rb'))\n",
    "y_test = load(open('pickle/dataset/battery/cycle_only/y_test.pkl', 'rb'))"
   ]
  },
  {
   "cell_type": "code",
   "execution_count": 50,
   "metadata": {},
   "outputs": [
    {
     "name": "stderr",
     "output_type": "stream",
     "text": [
      "/usr/local/lib/python3.9/site-packages/sklearn/utils/validation.py:985: DataConversionWarning: A column-vector y was passed when a 1d array was expected. Please change the shape of y to (n_samples, ), for example using ravel().\n",
      "  y = column_or_1d(y, warn=True)\n"
     ]
    },
    {
     "data": {
      "text/plain": [
       "SVR(C=20, epsilon=0.0001, gamma=1e-05)"
      ]
     },
     "execution_count": 50,
     "metadata": {},
     "output_type": "execute_result"
    }
   ],
   "source": [
    "svr = SVR(C=20, epsilon=0.0001, gamma=0.00001, cache_size=200,\n",
    "  kernel='rbf', max_iter=-1, shrinking=True, tol=0.001, verbose=False)\n",
    "\n",
    "svr.fit(X_train,y_train)"
   ]
  },
  {
   "cell_type": "code",
   "execution_count": 51,
   "metadata": {},
   "outputs": [
    {
     "data": {
      "text/plain": [
       "<matplotlib.legend.Legend at 0x154e29ca0>"
      ]
     },
     "execution_count": 51,
     "metadata": {},
     "output_type": "execute_result"
    },
    {
     "data": {
      "image/png": "[encoded data removed]",
      "text/plain": [
       "<Figure size 864x576 with 1 Axes>"
      ]
     },
     "metadata": {
      "needs_background": "light"
     },
     "output_type": "display_data"
    }
   ],
   "source": [
    "y_pred = svr.predict(X_train.append(X_test))\n",
    "\n",
    "fig, ax = plt.subplots(1, figsize=(12, 8))\n",
    "ax.plot(X, y, color='green', label='Battery capacity data')\n",
    "ax.plot(X, y_pred, color='red', label='Fitted model')\n",
    "ax.plot([0.,168], [1.38, 1.38],dashes=[6, 2], label=\"EoL Threshold\")\n",
    "ax.set(xlabel='Cycle numbers', ylabel='Capacity')\n",
    "ax.legend()"
   ]
  },
  {
   "cell_type": "code",
   "execution_count": 52,
   "metadata": {},
   "outputs": [
    {
     "data": {
      "text/html": [
       "<div>\n",
       "<style scoped>\n",
       "    .dataframe tbody tr th:only-of-type {\n",
       "        vertical-align: middle;\n",
       "    }\n",
       "\n",
       "    .dataframe tbody tr th {\n",
       "        vertical-align: top;\n",
       "    }\n",
       "\n",
       "    .dataframe thead th {\n",
       "        text-align: right;\n",
       "    }\n",
       "</style>\n",
       "<table border=\"1\" class=\"dataframe\">\n",
       "  <thead>\n",
       "    <tr style=\"text-align: right;\">\n",
       "      <th></th>\n",
       "      <th>cycle</th>\n",
       "      <th>ambient_temperature</th>\n",
       "      <th>datetime</th>\n",
       "      <th>capacity</th>\n",
       "      <th>pre</th>\n",
       "    </tr>\n",
       "  </thead>\n",
       "  <tbody>\n",
       "    <tr>\n",
       "      <th>0</th>\n",
       "      <td>1</td>\n",
       "      <td>24</td>\n",
       "      <td>2008-04-02 15:25:41</td>\n",
       "      <td>1.856487</td>\n",
       "      <td>1.856368</td>\n",
       "    </tr>\n",
       "    <tr>\n",
       "      <th>1</th>\n",
       "      <td>2</td>\n",
       "      <td>24</td>\n",
       "      <td>2008-04-02 19:43:48</td>\n",
       "      <td>1.846327</td>\n",
       "      <td>1.855144</td>\n",
       "    </tr>\n",
       "    <tr>\n",
       "      <th>2</th>\n",
       "      <td>3</td>\n",
       "      <td>24</td>\n",
       "      <td>2008-04-03 00:01:06</td>\n",
       "      <td>1.835349</td>\n",
       "      <td>1.853850</td>\n",
       "    </tr>\n",
       "    <tr>\n",
       "      <th>3</th>\n",
       "      <td>4</td>\n",
       "      <td>24</td>\n",
       "      <td>2008-04-03 04:16:37</td>\n",
       "      <td>1.835263</td>\n",
       "      <td>1.852485</td>\n",
       "    </tr>\n",
       "    <tr>\n",
       "      <th>4</th>\n",
       "      <td>5</td>\n",
       "      <td>24</td>\n",
       "      <td>2008-04-03 08:33:25</td>\n",
       "      <td>1.834646</td>\n",
       "      <td>1.851051</td>\n",
       "    </tr>\n",
       "    <tr>\n",
       "      <th>...</th>\n",
       "      <td>...</td>\n",
       "      <td>...</td>\n",
       "      <td>...</td>\n",
       "      <td>...</td>\n",
       "      <td>...</td>\n",
       "    </tr>\n",
       "    <tr>\n",
       "      <th>163</th>\n",
       "      <td>164</td>\n",
       "      <td>24</td>\n",
       "      <td>2008-05-26 10:44:38</td>\n",
       "      <td>1.293464</td>\n",
       "      <td>1.248398</td>\n",
       "    </tr>\n",
       "    <tr>\n",
       "      <th>164</th>\n",
       "      <td>165</td>\n",
       "      <td>24</td>\n",
       "      <td>2008-05-26 15:30:43</td>\n",
       "      <td>1.288003</td>\n",
       "      <td>1.245814</td>\n",
       "    </tr>\n",
       "    <tr>\n",
       "      <th>165</th>\n",
       "      <td>166</td>\n",
       "      <td>24</td>\n",
       "      <td>2008-05-26 20:21:04</td>\n",
       "      <td>1.287453</td>\n",
       "      <td>1.243283</td>\n",
       "    </tr>\n",
       "    <tr>\n",
       "      <th>166</th>\n",
       "      <td>167</td>\n",
       "      <td>24</td>\n",
       "      <td>2008-05-27 15:52:41</td>\n",
       "      <td>1.309015</td>\n",
       "      <td>1.240807</td>\n",
       "    </tr>\n",
       "    <tr>\n",
       "      <th>167</th>\n",
       "      <td>168</td>\n",
       "      <td>24</td>\n",
       "      <td>2008-05-27 20:45:42</td>\n",
       "      <td>1.325079</td>\n",
       "      <td>1.238386</td>\n",
       "    </tr>\n",
       "  </tbody>\n",
       "</table>\n",
       "<p>168 rows × 5 columns</p>\n",
       "</div>"
      ],
      "text/plain": [
       "     cycle  ambient_temperature            datetime  capacity       pre\n",
       "0        1                   24 2008-04-02 15:25:41  1.856487  1.856368\n",
       "1        2                   24 2008-04-02 19:43:48  1.846327  1.855144\n",
       "2        3                   24 2008-04-03 00:01:06  1.835349  1.853850\n",
       "3        4                   24 2008-04-03 04:16:37  1.835263  1.852485\n",
       "4        5                   24 2008-04-03 08:33:25  1.834646  1.851051\n",
       "..     ...                  ...                 ...       ...       ...\n",
       "163    164                   24 2008-05-26 10:44:38  1.293464  1.248398\n",
       "164    165                   24 2008-05-26 15:30:43  1.288003  1.245814\n",
       "165    166                   24 2008-05-26 20:21:04  1.287453  1.243283\n",
       "166    167                   24 2008-05-27 15:52:41  1.309015  1.240807\n",
       "167    168                   24 2008-05-27 20:45:42  1.325079  1.238386\n",
       "\n",
       "[168 rows x 5 columns]"
      ]
     },
     "execution_count": 52,
     "metadata": {},
     "output_type": "execute_result"
    }
   ],
   "source": [
    "capacity['pre'] = y_pred\n",
    "capacity"
   ]
  },
  {
   "cell_type": "code",
   "execution_count": 53,
   "metadata": {},
   "outputs": [
    {
     "name": "stdout",
     "output_type": "stream",
     "text": [
      "The Actual fail at cycle number: 129\n",
      "The prediction fail at cycle number: 127\n",
      "The error of RUL= -2 Cycle(s)\n"
     ]
    }
   ],
   "source": [
    "pred=0\n",
    "Afil=0\n",
    "Pfil=0\n",
    "a=capacity['capacity'].values\n",
    "b=capacity['pre'].values\n",
    "j=0\n",
    "k=0\n",
    "for i in range(len(a)):\n",
    "    actual=a[i]\n",
    "    \n",
    "    if actual<=1.38:\n",
    "        j=i\n",
    "        Afil=capacity['cycle'][j]\n",
    "        break\n",
    "for i in range(len(a)):\n",
    "    pred=b[i]\n",
    "    if pred< 1.38:\n",
    "        k=i\n",
    "        Pfil=capacity['cycle'][k]\n",
    "        break\n",
    "print(\"The Actual fail at cycle number: \"+ str(Afil))\n",
    "print(\"The prediction fail at cycle number: \"+ str(Pfil))\n",
    "RULerror=Pfil-Afil\n",
    "print(\"The error of RUL= \"+ str(RULerror)+ \" Cycle(s)\")"
   ]
  },
  {
   "cell_type": "code",
   "execution_count": 54,
   "metadata": {},
   "outputs": [
    {
     "name": "stdout",
     "output_type": "stream",
     "text": [
      "Train RMSE: 0.021\n",
      "Train R2 score: 0.9826602260326737\n",
      "Test RMSE: 0.041\n",
      "Test R2 score: -2.4280651482293845\n"
     ]
    }
   ],
   "source": [
    "train_predictions = svr.predict(X_train)\n",
    "rmse = np.sqrt(mean_squared_error(y_train, train_predictions))\n",
    "print('Train RMSE: %.3f' % rmse)\n",
    "print(\"Train R2 score:\", sklearn.metrics.r2_score(y_train, train_predictions))\n",
    "\n",
    "test_predictions = svr.predict(X_test)\n",
    "rmse = np.sqrt(mean_squared_error(y_test, test_predictions))\n",
    "print('Test RMSE: %.3f' % rmse)\n",
    "print(\"Test R2 score:\", sklearn.metrics.r2_score(y_test, test_predictions))"
   ]
  },
  {
   "cell_type": "markdown",
   "metadata": {},
   "source": [
    "## TPOT"
   ]
  },
  {
   "cell_type": "code",
   "execution_count": 55,
   "metadata": {},
   "outputs": [],
   "source": [
    "# load data\n",
    "X_train = load(open('pickle/dataset/battery/cycle_only/X_train.pkl', 'rb'))\n",
    "y_train = load(open('pickle/dataset/battery/cycle_only/y_train.pkl', 'rb'))\n",
    "X_test = load(open('pickle/dataset/battery/cycle_only/X_test.pkl', 'rb'))\n",
    "y_test = load(open('pickle/dataset/battery/cycle_only/y_test.pkl', 'rb'))"
   ]
  },
  {
   "cell_type": "code",
   "execution_count": 56,
   "metadata": {},
   "outputs": [
    {
     "name": "stderr",
     "output_type": "stream",
     "text": [
      "/usr/local/lib/python3.9/site-packages/sklearn/utils/validation.py:985: DataConversionWarning: A column-vector y was passed when a 1d array was expected. Please change the shape of y to (n_samples, ), for example using ravel().\n",
      "  y = column_or_1d(y, warn=True)\n"
     ]
    },
    {
     "name": "stdout",
     "output_type": "stream",
     "text": [
      "                                                                              \n",
      "Generation 1 - Current best internal CV score: -0.0016215186751841124\n",
      "                                                                              \n",
      "Generation 2 - Current best internal CV score: -0.0016215186751841124\n",
      "                                                                              \n",
      "Generation 3 - Current best internal CV score: -0.0016215186751841124\n",
      "                                                                              \n",
      "Generation 4 - Current best internal CV score: -0.0013627184353332035\n",
      "                                                                              \n",
      "Generation 5 - Current best internal CV score: -0.0007889327968975957\n",
      "                                                                              \n",
      "Best pipeline: SGDRegressor(RobustScaler(AdaBoostRegressor(RobustScaler(input_matrix), learning_rate=0.001, loss=linear, n_estimators=100)), alpha=0.001, eta0=0.01, fit_intercept=True, l1_ratio=0.0, learning_rate=constant, loss=huber, penalty=elasticnet, power_t=0.5)\n",
      "-0.00025963325628051656\n"
     ]
    },
    {
     "name": "stderr",
     "output_type": "stream",
     "text": [
      "/usr/local/lib/python3.9/site-packages/sklearn/utils/validation.py:985: DataConversionWarning: A column-vector y was passed when a 1d array was expected. Please change the shape of y to (n_samples, ), for example using ravel().\n",
      "  y = column_or_1d(y, warn=True)\n"
     ]
    }
   ],
   "source": [
    "from tpot import TPOTRegressor\n",
    "tpot = TPOTRegressor(generations=5, population_size=50, verbosity=2)\n",
    "tpot.fit(X_train, y_train)\n",
    "print(tpot.score(X_test, y_test))\n",
    "tpot.export('TPOT/tpot_battery_cycle_only_pipeline.py')"
   ]
  },
  {
   "cell_type": "markdown",
   "metadata": {},
   "source": [
    "### Try the best TPOT"
   ]
  },
  {
   "cell_type": "code",
   "execution_count": 57,
   "metadata": {},
   "outputs": [],
   "source": [
    "# load data\n",
    "X_train = load(open('pickle/dataset/battery/cycle_only/X_train.pkl', 'rb'))\n",
    "y_train = load(open('pickle/dataset/battery/cycle_only/y_train.pkl', 'rb'))\n",
    "X_test = load(open('pickle/dataset/battery/cycle_only/X_test.pkl', 'rb'))\n",
    "y_test = load(open('pickle/dataset/battery/cycle_only/y_test.pkl', 'rb'))"
   ]
  },
  {
   "cell_type": "code",
   "execution_count": 58,
   "metadata": {},
   "outputs": [
    {
     "name": "stderr",
     "output_type": "stream",
     "text": [
      "/usr/local/lib/python3.9/site-packages/sklearn/utils/validation.py:985: DataConversionWarning: A column-vector y was passed when a 1d array was expected. Please change the shape of y to (n_samples, ), for example using ravel().\n",
      "  y = column_or_1d(y, warn=True)\n",
      "/usr/local/lib/python3.9/site-packages/sklearn/utils/validation.py:985: DataConversionWarning: A column-vector y was passed when a 1d array was expected. Please change the shape of y to (n_samples, ), for example using ravel().\n",
      "  y = column_or_1d(y, warn=True)\n"
     ]
    }
   ],
   "source": [
    "from sklearn.ensemble import AdaBoostRegressor\n",
    "from sklearn.linear_model import SGDRegressor\n",
    "from sklearn.model_selection import train_test_split\n",
    "from sklearn.pipeline import make_pipeline, make_union\n",
    "from sklearn.preprocessing import RobustScaler\n",
    "from tpot.builtins import StackingEstimator\n",
    "\n",
    "exported_pipeline = make_pipeline(\n",
    "    RobustScaler(),\n",
    "    StackingEstimator(estimator=AdaBoostRegressor(learning_rate=0.001, loss=\"linear\", n_estimators=100)),\n",
    "    RobustScaler(),\n",
    "    SGDRegressor(alpha=0.001, eta0=0.01, fit_intercept=True, l1_ratio=0.0, learning_rate=\"constant\", loss=\"huber\", penalty=\"elasticnet\", power_t=0.5)\n",
    ")\n",
    "\n",
    "exported_pipeline.fit(X_train, y_train)\n",
    "results = exported_pipeline.predict(X_train.append(X_test))"
   ]
  },
  {
   "cell_type": "code",
   "execution_count": 59,
   "metadata": {},
   "outputs": [
    {
     "name": "stdout",
     "output_type": "stream",
     "text": [
      "Total data in dataset:  616\n",
      "[1, 24, datetime.datetime(2008, 4, 2, 15, 25, 41), 1.8564874208181574, 4.191491807505295, -0.004901589207462691, 24.330033885570543, -0.0006, 0.0, 0.0]\n"
     ]
    },
    {
     "data": {
      "text/plain": [
       "<matplotlib.legend.Legend at 0x154d55730>"
      ]
     },
     "execution_count": 59,
     "metadata": {},
     "output_type": "execute_result"
    },
    {
     "data": {
      "image/png": "[encoded data removed]",
      "text/plain": [
       "<Figure size 864x576 with 1 Axes>"
      ]
     },
     "metadata": {
      "needs_background": "light"
     },
     "output_type": "display_data"
    }
   ],
   "source": [
    "fig, ax = plt.subplots(1, figsize=(12, 8))\n",
    "\n",
    "_, capacity = load_data('B0005')\n",
    "X = capacity[['cycle']]\n",
    "y = capacity['capacity']\n",
    "ax.plot(X, y, color='green', label='Battery capacity data')\n",
    "ax.plot(X, results, color='red', label='Fitted model')\n",
    "ax.plot([0.,168], [1.38, 1.38],dashes=[6, 2], label=\"EoL Threshold\")\n",
    "ax.set(xlabel='Cycle numbers', ylabel='Capacity')\n",
    "ax.legend()"
   ]
  },
  {
   "cell_type": "code",
   "execution_count": 60,
   "metadata": {},
   "outputs": [
    {
     "name": "stdout",
     "output_type": "stream",
     "text": [
      "The Actual fail at cycle number: 129\n",
      "The prediction fail at cycle number: 131\n",
      "The error of RUL= 2 Cycle(s)\n"
     ]
    }
   ],
   "source": [
    "capacity['pre'] = results\n",
    "\n",
    "pred=0\n",
    "Afil=0\n",
    "Pfil=0\n",
    "a=capacity['capacity'].values\n",
    "b=capacity['pre'].values\n",
    "j=0\n",
    "k=0\n",
    "for i in range(len(a)):\n",
    "    actual=a[i]\n",
    "    \n",
    "    if actual<=1.38:\n",
    "        j=i\n",
    "        Afil=capacity['cycle'][j]\n",
    "        break\n",
    "for i in range(len(a)):\n",
    "    pred=b[i]\n",
    "    if pred< 1.38:\n",
    "        k=i\n",
    "        Pfil=capacity['cycle'][k]\n",
    "        break\n",
    "print(\"The Actual fail at cycle number: \"+ str(Afil))\n",
    "print(\"The prediction fail at cycle number: \"+ str(Pfil))\n",
    "RULerror=Pfil-Afil\n",
    "print(\"The error of RUL= \"+ str(RULerror)+ \" Cycle(s)\")"
   ]
  },
  {
   "cell_type": "code",
   "execution_count": 61,
   "metadata": {},
   "outputs": [
    {
     "name": "stdout",
     "output_type": "stream",
     "text": [
      "Train RMSE: 0.023\n",
      "Train R2 score: 0.9795058153717219\n",
      "Test RMSE: 0.017\n",
      "Test R2 score: 0.393702606072853\n"
     ]
    }
   ],
   "source": [
    "train_predictions = exported_pipeline.predict(X_train)\n",
    "rmse = np.sqrt(mean_squared_error(y_train, train_predictions))\n",
    "print('Train RMSE: %.3f' % rmse)\n",
    "print(\"Train R2 score:\", sklearn.metrics.r2_score(y_train, train_predictions))\n",
    "\n",
    "test_predictions = exported_pipeline.predict(X_test)\n",
    "rmse = np.sqrt(mean_squared_error(y_test, test_predictions))\n",
    "print('Test RMSE: %.3f' % rmse)\n",
    "print(\"Test R2 score:\", sklearn.metrics.r2_score(y_test, test_predictions))"
   ]
  }
 ],
 "metadata": {
  "interpreter": {
   "hash": "949777d72b0d2535278d3dc13498b2535136f6dfe0678499012e853ee9abcab1"
  },
  "kernelspec": {
   "display_name": "Python 3 (ipykernel)",
   "language": "python",
   "name": "python3"
  },
  "language_info": {
   "codemirror_mode": {
    "name": "ipython",
    "version": 3
   },
   "file_extension": ".py",
   "mimetype": "text/x-python",
   "name": "python",
   "nbconvert_exporter": "python",
   "pygments_lexer": "ipython3",
   "version": "3.9.7"
  },
  "orig_nbformat": 4
 },
 "nbformat": 4,
 "nbformat_minor": 2
}
